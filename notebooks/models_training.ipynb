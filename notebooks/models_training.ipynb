{
  "nbformat": 4,
  "nbformat_minor": 0,
  "metadata": {
    "colab": {
      "name": "models_training.ipynb",
      "provenance": []
    },
    "kernelspec": {
      "name": "python3",
      "display_name": "Python 3"
    },
    "accelerator": "GPU"
  },
  "cells": [
    {
      "cell_type": "code",
      "metadata": {
        "id": "7ie4h16ZJcMZ"
      },
      "source": [
        "from google.colab import drive"
      ],
      "execution_count": null,
      "outputs": []
    },
    {
      "cell_type": "code",
      "metadata": {
        "id": "_5Jx80oOKBPK",
        "colab": {
          "base_uri": "https://localhost:8080/"
        },
        "outputId": "2d336391-76d1-4c19-808e-43cc2af567ec"
      },
      "source": [
        "drive.mount('/content/gdrive')"
      ],
      "execution_count": null,
      "outputs": [
        {
          "output_type": "stream",
          "text": [
            "Mounted at /content/gdrive\n"
          ],
          "name": "stdout"
        }
      ]
    },
    {
      "cell_type": "code",
      "metadata": {
        "id": "_qJQfwSeKBaA"
      },
      "source": [
        "dataset_path='/content/gdrive/My Drive/Sentiment analysis/datasets'\n",
        "model_path= '/content/gdrive/My Drive/Sentiment analysis/models'"
      ],
      "execution_count": null,
      "outputs": []
    },
    {
      "cell_type": "code",
      "metadata": {
        "id": "9qpz-n0dKBcT"
      },
      "source": [
        "import numpy as np \n",
        "import pandas as pd \n",
        "import bz2"
      ],
      "execution_count": null,
      "outputs": []
    },
    {
      "cell_type": "code",
      "metadata": {
        "id": "9eQQhJhAKBeg"
      },
      "source": [
        "def labels_text(x):\n",
        "  label=[]\n",
        "  texts=[]\n",
        "  for line in bz2.BZ2File(x):\n",
        "    decode = line.decode(\"utf-8\")\n",
        "    label.append(int(decode[9]) - 1)\n",
        "    texts.append(decode[10:].strip())\n",
        "  return np.array(label),texts"
      ],
      "execution_count": null,
      "outputs": []
    },
    {
      "cell_type": "code",
      "metadata": {
        "id": "HJbn7bsxKBiM"
      },
      "source": [
        "train_label, train_text = labels_text(dataset_path+'/train.ft.txt.bz2')\n",
        "test_label, test_text = labels_text(dataset_path+'/test.ft.txt.bz2')"
      ],
      "execution_count": null,
      "outputs": []
    },
    {
      "cell_type": "code",
      "metadata": {
        "id": "utgXFNbBKBm0",
        "colab": {
          "base_uri": "https://localhost:8080/",
          "height": 86
        },
        "outputId": "4f517b00-b36d-460a-bd9a-adfc2b09a645"
      },
      "source": [
        "train_text[0]"
      ],
      "execution_count": null,
      "outputs": [
        {
          "output_type": "execute_result",
          "data": {
            "application/vnd.google.colaboratory.intrinsic+json": {
              "type": "string"
            },
            "text/plain": [
              "'Stuning even for the non-gamer: This sound track was beautiful! It paints the senery in your mind so well I would recomend it even to people who hate vid. game music! I have played the game Chrono Cross but out of all of the games I have ever played it has the best music! It backs away from crude keyboarding and takes a fresher step with grate guitars and soulful orchestras. It would impress anyone who cares to listen! ^_^'"
            ]
          },
          "metadata": {
            "tags": []
          },
          "execution_count": 7
        }
      ]
    },
    {
      "cell_type": "code",
      "metadata": {
        "id": "HZ1eWtOBKBqw",
        "colab": {
          "base_uri": "https://localhost:8080/",
          "height": 103
        },
        "outputId": "b6672b1b-d983-4778-afa8-9167d8fc3245"
      },
      "source": [
        "test_text[0]"
      ],
      "execution_count": null,
      "outputs": [
        {
          "output_type": "execute_result",
          "data": {
            "application/vnd.google.colaboratory.intrinsic+json": {
              "type": "string"
            },
            "text/plain": [
              "'Great CD: My lovely Pat has one of the GREAT voices of her generation. I have listened to this CD for YEARS and I still LOVE IT. When I\\'m in a good mood it makes me feel better. A bad mood just evaporates like sugar in the rain. This CD just oozes LIFE. Vocals are jusat STUUNNING and lyrics just kill. One of life\\'s hidden gems. This is a desert isle CD in my book. Why she never made it big is just beyond me. Everytime I play this, no matter black, white, young, old, male, female EVERYBODY says one thing \"Who was that singing ?\"'"
            ]
          },
          "metadata": {
            "tags": []
          },
          "execution_count": 8
        }
      ]
    },
    {
      "cell_type": "code",
      "metadata": {
        "id": "b4FAZRlNKBls"
      },
      "source": [
        "import re\n",
        "NON_ALPHANUM = re.compile(r'[\\W]')\n",
        "NON_ASCII = re.compile(r'[^a-z0-1\\s]')\n",
        "def normalize_texts(texts):\n",
        "    normalized_texts = []\n",
        "    for text in texts:\n",
        "        lower = text.lower()\n",
        "        no_punctuation = NON_ALPHANUM.sub(r' ', lower)\n",
        "        no_non_ascii = NON_ASCII.sub(r'', no_punctuation)\n",
        "        normalized_texts.append(no_non_ascii)\n",
        "    return normalized_texts\n",
        "        \n",
        "train_text = normalize_texts(train_text)\n",
        "test_text = normalize_texts(test_text)"
      ],
      "execution_count": null,
      "outputs": []
    },
    {
      "cell_type": "code",
      "metadata": {
        "id": "6NS2wDBWGzAR"
      },
      "source": [
        "from sklearn.model_selection import train_test_split\n",
        "train_text, val_text, train_label, val_label = train_test_split(\n",
        "    train_text, train_label, random_state=57643892, test_size=0.2)"
      ],
      "execution_count": null,
      "outputs": []
    },
    {
      "cell_type": "code",
      "metadata": {
        "id": "KwOsPynYGzTj"
      },
      "source": [
        "import matplotlib.pyplot as plt\n",
        "from tensorflow.python.keras import models, layers, optimizers\n",
        "import tensorflow\n",
        "from tensorflow.keras.preprocessing.text import Tokenizer, text_to_word_sequence\n",
        "from tensorflow.keras.preprocessing.sequence import pad_sequences\n",
        "import bz2\n",
        "from sklearn.metrics import f1_score, roc_auc_score, accuracy_score\n",
        "import re\n",
        "\n",
        "MAX_FEATURES = 12000\n",
        "tokenizer = Tokenizer(num_words=MAX_FEATURES)\n",
        "tokenizer.fit_on_texts(train_text)\n",
        "train_text = tokenizer.texts_to_sequences(train_text)\n",
        "val_text = tokenizer.texts_to_sequences(val_text)\n",
        "test_text = tokenizer.texts_to_sequences(test_text)"
      ],
      "execution_count": null,
      "outputs": []
    },
    {
      "cell_type": "code",
      "metadata": {
        "id": "Z1VE5jsNH7D9"
      },
      "source": [
        "MAX_LENGTH = max(len(train_ex) for train_ex in train_text)\n",
        "train_text = pad_sequences(train_text, maxlen=MAX_LENGTH)\n",
        "val_text = pad_sequences(val_text, maxlen=MAX_LENGTH)\n",
        "test_text = pad_sequences(test_text, maxlen=MAX_LENGTH)"
      ],
      "execution_count": null,
      "outputs": []
    },
    {
      "cell_type": "code",
      "metadata": {
        "id": "EFwwh31-HuEw"
      },
      "source": [
        "import pickle\n",
        "\n",
        "# saving\n",
        "with open(model_path+'tokenizer.pickle', 'wb') as handle:\n",
        "    pickle.dump(tokenizer, handle, protocol=pickle.HIGHEST_PROTOCOL)"
      ],
      "execution_count": null,
      "outputs": []
    },
    {
      "cell_type": "code",
      "metadata": {
        "id": "k9knMYaoLWD8"
      },
      "source": [
        "with open(model_path+'tokenizer.pickle', 'rb') as handle:\n",
        "    tokenizer1 = pickle.load(handle)"
      ],
      "execution_count": null,
      "outputs": []
    },
    {
      "cell_type": "code",
      "metadata": {
        "id": "QOZhO7NcLWVJ"
      },
      "source": [
        "def build_model():\n",
        "    sequences = layers.Input(shape=(MAX_LENGTH,))\n",
        "    embedded = layers.Embedding(MAX_FEATURES, 64)(sequences)\n",
        "    x = layers.Conv1D(64, 3, activation='relu')(embedded)\n",
        "    x = layers.BatchNormalization()(x)\n",
        "    x = layers.MaxPool1D(3)(x)\n",
        "    x = layers.Conv1D(64, 5, activation='relu')(x)\n",
        "    x = layers.BatchNormalization()(x)\n",
        "    x = layers.MaxPool1D(5)(x)\n",
        "    x = layers.Conv1D(64, 5, activation='relu')(x)\n",
        "    x = layers.GlobalMaxPool1D()(x)\n",
        "    x = layers.Flatten()(x)\n",
        "    x = layers.Dense(100, activation='relu')(x)\n",
        "    predictions = layers.Dense(1, activation='sigmoid')(x)\n",
        "    model = models.Model(inputs=sequences, outputs=predictions)\n",
        "    model.compile(\n",
        "        optimizer='rmsprop',\n",
        "        loss='binary_crossentropy',\n",
        "        metrics=['binary_accuracy']\n",
        "    )\n",
        "    return model\n",
        "    \n",
        "model = build_model()"
      ],
      "execution_count": null,
      "outputs": []
    },
    {
      "cell_type": "code",
      "metadata": {
        "id": "LCu4JGdiLxR6",
        "colab": {
          "base_uri": "https://localhost:8080/"
        },
        "outputId": "33f1b070-c78f-468f-f09a-614349990b67"
      },
      "source": [
        "model.fit(\n",
        "    train_text, \n",
        "    train_label, \n",
        "    batch_size=128,\n",
        "    epochs=2,\n",
        "    validation_data=(val_text, val_label), )"
      ],
      "execution_count": null,
      "outputs": [
        {
          "output_type": "stream",
          "text": [
            "Epoch 1/2\n",
            "22500/22500 [==============================] - 389s 17ms/step - loss: 0.1668 - binary_accuracy: 0.9367 - val_loss: 0.1480 - val_binary_accuracy: 0.9441\n",
            "Epoch 2/2\n",
            "22500/22500 [==============================] - 388s 17ms/step - loss: 0.1450 - binary_accuracy: 0.9467 - val_loss: 0.1420 - val_binary_accuracy: 0.9474\n"
          ],
          "name": "stdout"
        },
        {
          "output_type": "execute_result",
          "data": {
            "text/plain": [
              "<tensorflow.python.keras.callbacks.History at 0x7f31ca92c7f0>"
            ]
          },
          "metadata": {
            "tags": []
          },
          "execution_count": 16
        }
      ]
    },
    {
      "cell_type": "code",
      "metadata": {
        "id": "Dq_sTLgaQKl0",
        "colab": {
          "base_uri": "https://localhost:8080/"
        },
        "outputId": "6d8ec062-46e9-4837-f4a9-d98a060a2c83"
      },
      "source": [
        "model_json = model.to_json()\n",
        "with open(\"/content/gdrive/My Drive/Sentiment analysis/full_balanced_modelA76_epoch30.json\", \"w\") as json_file:\n",
        "    json_file.write(model_json)\n",
        "model.save_weights(\"/content/gdrive/My Drive/Sentiment analysis/full_balanced_modelA76_epoch30.h5\")\n",
        "print(\"Saved model to disk\")"
      ],
      "execution_count": null,
      "outputs": [
        {
          "output_type": "stream",
          "text": [
            "Saved model to disk\n"
          ],
          "name": "stdout"
        }
      ]
    },
    {
      "cell_type": "code",
      "metadata": {
        "id": "xrfYiKEmQK5I",
        "colab": {
          "base_uri": "https://localhost:8080/"
        },
        "outputId": "da90bbbf-819b-4142-be00-a84bc0011469"
      },
      "source": [
        "model.evaluate(test_text,test_label)"
      ],
      "execution_count": null,
      "outputs": [
        {
          "output_type": "stream",
          "text": [
            "12500/12500 [==============================] - 38s 3ms/step - loss: 0.1438 - binary_accuracy: 0.9466\n"
          ],
          "name": "stdout"
        },
        {
          "output_type": "execute_result",
          "data": {
            "text/plain": [
              "[0.1438097506761551, 0.9466074705123901]"
            ]
          },
          "metadata": {
            "tags": []
          },
          "execution_count": 18
        }
      ]
    },
    {
      "cell_type": "code",
      "metadata": {
        "id": "cSf0cIp-VaAl",
        "colab": {
          "base_uri": "https://localhost:8080/"
        },
        "outputId": "59d2968b-5d5a-470d-a9b6-8415755c7b69"
      },
      "source": [
        "from sklearn.metrics import confusion_matrix\n",
        "p=model.predict(test_text)\n",
        "confusion_matrix(test_label,p.round())"
      ],
      "execution_count": null,
      "outputs": [
        {
          "output_type": "execute_result",
          "data": {
            "text/plain": [
              "array([[192056,   7944],\n",
              "       [ 13361, 186639]])"
            ]
          },
          "metadata": {
            "tags": []
          },
          "execution_count": 21
        }
      ]
    },
    {
      "cell_type": "code",
      "metadata": {
        "id": "jcx6T4eEV07v",
        "colab": {
          "base_uri": "https://localhost:8080/"
        },
        "outputId": "76b15a0f-0ee2-41f1-d885-9642ecd9e8cd"
      },
      "source": [
        "from keras.models import model_from_json\n",
        "json_file = open('/content/gdrive/MyDrive/Sentiment analysis/full_balanced_modelA76_epoch30.json', 'r')\n",
        "loaded_model_json = json_file.read()\n",
        "json_file.close()\n",
        "loaded_model = model_from_json(loaded_model_json)\n",
        "# load weights into new model\n",
        "loaded_model.load_weights('/content/gdrive/MyDrive/Sentiment analysis/full_balanced_modelA76_epoch30.h5')\n",
        "\n",
        "loaded_model.compile(loss='binary_crossentropy', optimizer='adam')\n",
        "loaded_model.summary()\n",
        "print(\"Loaded model from disk\")"
      ],
      "execution_count": null,
      "outputs": [
        {
          "output_type": "stream",
          "text": [
            "Model: \"functional_1\"\n",
            "_________________________________________________________________\n",
            "Layer (type)                 Output Shape              Param #   \n",
            "=================================================================\n",
            "input_1 (InputLayer)         [(None, 255)]             0         \n",
            "_________________________________________________________________\n",
            "embedding (Embedding)        (None, 255, 64)           768000    \n",
            "_________________________________________________________________\n",
            "conv1d (Conv1D)              (None, 253, 64)           12352     \n",
            "_________________________________________________________________\n",
            "batch_normalization (BatchNo (None, 253, 64)           256       \n",
            "_________________________________________________________________\n",
            "max_pooling1d (MaxPooling1D) (None, 84, 64)            0         \n",
            "_________________________________________________________________\n",
            "conv1d_1 (Conv1D)            (None, 80, 64)            20544     \n",
            "_________________________________________________________________\n",
            "batch_normalization_1 (Batch (None, 80, 64)            256       \n",
            "_________________________________________________________________\n",
            "max_pooling1d_1 (MaxPooling1 (None, 16, 64)            0         \n",
            "_________________________________________________________________\n",
            "conv1d_2 (Conv1D)            (None, 12, 64)            20544     \n",
            "_________________________________________________________________\n",
            "global_max_pooling1d (Global (None, 64)                0         \n",
            "_________________________________________________________________\n",
            "flatten (Flatten)            (None, 64)                0         \n",
            "_________________________________________________________________\n",
            "dense (Dense)                (None, 100)               6500      \n",
            "_________________________________________________________________\n",
            "dense_1 (Dense)              (None, 1)                 101       \n",
            "=================================================================\n",
            "Total params: 828,553\n",
            "Trainable params: 828,297\n",
            "Non-trainable params: 256\n",
            "_________________________________________________________________\n",
            "Loaded model from disk\n"
          ],
          "name": "stdout"
        }
      ]
    },
    {
      "cell_type": "code",
      "metadata": {
        "id": "yCjOzs9XVaVV"
      },
      "source": [
        "with open('/content/gdrive/MyDrive/Sentiment analysis/modelstokenizer.pickle', 'rb') as handle:\n",
        "    tokenizer = pickle.load(handle)"
      ],
      "execution_count": null,
      "outputs": []
    },
    {
      "cell_type": "code",
      "metadata": {
        "id": "a5wQQ6YMZO9A",
        "colab": {
          "base_uri": "https://localhost:8080/"
        },
        "outputId": "4682d026-aeef-47aa-f353-f9eda613ed1c"
      },
      "source": [
        "s = tokenizer.texts_to_sequences([\"Amazing product ever seen\"])\n",
        "d = pad_sequences(s,maxlen=300)\n",
        "loaded_model.predict(d)"
      ],
      "execution_count": null,
      "outputs": [
        {
          "output_type": "execute_result",
          "data": {
            "text/plain": [
              "array([[0.9809776]], dtype=float32)"
            ]
          },
          "metadata": {
            "tags": []
          },
          "execution_count": 40
        }
      ]
    },
    {
      "cell_type": "code",
      "metadata": {
        "id": "AUrrr5CsQLJN"
      },
      "source": [
        ""
      ],
      "execution_count": null,
      "outputs": []
    }
  ]
}